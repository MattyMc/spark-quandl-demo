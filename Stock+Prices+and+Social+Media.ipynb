{
 "cells": [
  {
   "cell_type": "markdown",
   "metadata": {
    "collapsed": true
   },
   "source": [
    "# Data Science with Spark - Analyzing Stock Prices and Twitter Data\n"
   ]
  },
  {
   "cell_type": "markdown",
   "metadata": {
    "collapsed": true
   },
   "source": [
    "* We need to import the relevant Quandl and Twitter Data\n",
    "* Then we choose a data storage method to persist the data\n",
    "* We use PySpark to generate descriptive stats\n",
    "* After which we use some modelling techniques\n",
    "* Optional (ML in R or Spark)\n",
    "* Port to Shiny app\n"
   ]
  },
  {
   "cell_type": "markdown",
   "metadata": {
    "collapsed": true
   },
   "source": [
    "## Ingest the Data Using API's"
   ]
  },
  {
   "cell_type": "code",
   "execution_count": 107,
   "metadata": {
    "collapsed": true
   },
   "outputs": [],
   "source": [
    "import quandl\n",
    "import pandas as pd\n",
    "quandl.ApiConfig.api_key = 'cxtmPDusyCfZtdF29pyA'"
   ]
  },
  {
   "cell_type": "code",
   "execution_count": 108,
   "metadata": {
    "collapsed": false
   },
   "outputs": [
    {
     "name": "stdout",
     "output_type": "stream",
     "text": [
      "WIKI/AAPL\n",
      "WIKI/FB\n",
      "WIKI/TSLA\n",
      "WIKI/ANF\n",
      "WIKI/UAL\n",
      "WIKI/RIGL\n",
      "WIKI/AMZN\n",
      "WIKI/MSFT\n",
      "WIKI/GOOG\n",
      "WIKI/XOM\n",
      "WIKI/JNJ\n",
      "WIKI/GE\n",
      "WIKI/WFC\n",
      "WIKI/WMT\n",
      "WIKI/PFE\n",
      "WIKI/KO\n",
      "WIKI/ORCL\n",
      "WIKI/BAC\n",
      "WIKI/INTC\n",
      "WIKI/V\n",
      "WIKI/DIS\n",
      "WIKI/MRK\n"
     ]
    }
   ],
   "source": [
    "STOCK_SYMBOLS = [\"AAPL\", \"FB\", \"TSLA\", \"ANF\", \"UAL\",\"RIGL\", \"AMZN\", \"MSFT\", \"GOOG\", \"XOM\", \"JNJ\", \"GE\", \"WFC\", \"WMT\", \"PFE\", \"KO\", \"ORCL\", \"BAC\", \"INTC\", \"V\", \"DIS\", 'MRK']\n",
    "\n",
    "\n",
    "\n",
    "for stock in STOCK_SYMBOLS:\n",
    "    str_code = 'WIKI/' + stock\n",
    "    print str_code\n",
    "    data = quandl.get(str_code.strip(), start_date = '2014-01-01')\n",
    "    pandas_df = pd.DataFrame(data)\n",
    "    pandas_df['TICKER'] = stock\n",
    "    all_df.append(pandas_df)"
   ]
  },
  {
   "cell_type": "code",
   "execution_count": 109,
   "metadata": {
    "collapsed": false
   },
   "outputs": [],
   "source": [
    "augmented_df = pd.concat(all_df)"
   ]
  },
  {
   "cell_type": "code",
   "execution_count": 110,
   "metadata": {
    "collapsed": false
   },
   "outputs": [
    {
     "data": {
      "text/plain": [
       "Open           248970\n",
       "High           248970\n",
       "Low            248970\n",
       "Close          248970\n",
       "Volume         248971\n",
       "Ex-Dividend    248971\n",
       "Split Ratio    248970\n",
       "Adj. Open      248970\n",
       "Adj. High      248970\n",
       "Adj. Low       248970\n",
       "Adj. Close     248970\n",
       "Adj. Volume    248971\n",
       "TICKER         248971\n",
       "dtype: int64"
      ]
     },
     "execution_count": 110,
     "metadata": {},
     "output_type": "execute_result"
    }
   ],
   "source": [
    "augmented_df.count()"
   ]
  },
  {
   "cell_type": "code",
   "execution_count": null,
   "metadata": {
    "collapsed": true
   },
   "outputs": [],
   "source": []
  }
 ],
 "metadata": {
  "kernelspec": {
   "display_name": "Python 2",
   "language": "python",
   "name": "python2"
  },
  "language_info": {
   "codemirror_mode": {
    "name": "ipython",
    "version": 2
   },
   "file_extension": ".py",
   "mimetype": "text/x-python",
   "name": "python",
   "nbconvert_exporter": "python",
   "pygments_lexer": "ipython2",
   "version": "2.7.11"
  }
 },
 "nbformat": 4,
 "nbformat_minor": 0
}